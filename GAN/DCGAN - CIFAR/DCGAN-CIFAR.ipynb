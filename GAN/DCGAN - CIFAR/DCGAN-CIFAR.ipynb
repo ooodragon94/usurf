{
 "cells": [
  {
   "cell_type": "code",
   "execution_count": null,
   "metadata": {},
   "outputs": [],
   "source": [
    "import os, time, sys\n",
    "import matplotlib.pyplot as plt\n",
    "import itertools\n",
    "import pickle\n",
    "import imageio\n",
    "import torch\n",
    "import torch.nn as nn\n",
    "import torch.nn.functional as F\n",
    "import torch.optim as optim\n",
    "from torchvision import datasets, transforms\n",
    "from torch.autograd import Variable"
   ]
  },
  {
   "cell_type": "code",
   "execution_count": null,
   "metadata": {},
   "outputs": [],
   "source": [
    "class Generator(nn.Module):\n",
    "    def __init__(self, d=128):\n",
    "        super(Generator,self).__init__()\n",
    "        self.deconv1 = nn.ConvTranspose2d(in_channels=100, out_channels=d*8, kernel_size=4, stride=1, padding=0)\n",
    "        self.deconv1_bn = nn.BatchNorm2d(d*8)\n",
    "        self.deconv2 = nn.ConvTranspose2d(in_channels=d*8, out_channels=d*4, kernel_size=4, stride=2, padding=1)\n",
    "        self.deconv2_bn = nn.BatchNorm2d(d*4)\n",
    "        self.deconv3 = nn.ConvTranspose2d(in_channels=d*4, out_channels=d*2, kernel_size=4, stride=2, padding=1)\n",
    "        self.deconv3_bn = nn.BatchNorm2d(d*2)\n",
    "        self.deconv4 = nn.ConvTranspose2d(in_channels=d*2, out_channels=d, kernel_size=4, stride=2, padding=1)\n",
    "        self.deconv4_bn = nn.BatchNorm2d(d)\n",
    "        self.deconv5 = nn.ConvTranspose2d(d, 3, 4, 2, 1)\n",
    "    def weight_init(self, mean, std):\n",
    "        for m in self._modules:\n",
    "            normal_init(self._modules[m], mean, std)\n",
    "    def forward(self, input):\n",
    "        x = F.relu(self.deconv1_bn(self.deconv1(input)))\n",
    "        x = F.relu(self.deconv2_bn(self.deconv2(x)))\n",
    "        x = F.relu(self.deconv3_bn(self.deconv3(x)))\n",
    "        x = F.relu(self.deconv4_bn(self.deconv4(x)))\n",
    "        x = torch.tanh(self.deconv5(x))\n",
    "        return x"
   ]
  },
  {
   "cell_type": "code",
   "execution_count": null,
   "metadata": {},
   "outputs": [],
   "source": [
    "class Discriminator(nn.Module):\n",
    "    def __init__(self, d=128):\n",
    "        super(Discriminator, self).__init__()\n",
    "        self.conv1 = nn.Conv2d(3,d,4,2,1)\n",
    "        self.conv2 = nn.Conv2d(d,d*2,4,2,1)\n",
    "        self.conv2_bn = nn.BatchNorm2d(d*2)\n",
    "        self.conv3 = nn.Conv2d(d*2,d*4,4,2,1)\n",
    "        self.conv3_bn = nn.BatchNorm2d(d*4)\n",
    "        self.conv4 = nn.Conv2d(d*4,d*8,4,2,1)\n",
    "        self.conv4_bn = nn.BatchNorm2d(d*8)\n",
    "        self.conv5 = nn.Conv2d(d*8,1,4,2,0)\n",
    "    def weight_init(self, mean, std):\n",
    "        for m in self._modules:\n",
    "            normal_init(self._modules[m], mean, std)\n",
    "    def forward(self, input):\n",
    "        x = F.leaky_relu(self.conv1(input),0.2)\n",
    "        x = F.leaky_relu(self.conv2_bn(self.conv2(x)),0.2)\n",
    "        x = F.leaky_relu(self.conv3_bn(self.conv3(x)),0.2)\n",
    "        x = F.leaky_relu(self.conv4_bn(self.conv4(x)),0.2)\n",
    "        x = torch.sigmoid(self.conv5(x))\n",
    "        \n",
    "        return x"
   ]
  },
  {
   "cell_type": "code",
   "execution_count": null,
   "metadata": {},
   "outputs": [],
   "source": [
    "def normal_init(m, mean, std):\n",
    "    if isinstance(m, nn.ConvTranspose2d) or isinstance(m, nn.Conv2d):\n",
    "        m.weight.data.normal_(mean,std)\n",
    "        m.bias.data.zero_()"
   ]
  },
  {
   "cell_type": "code",
   "execution_count": null,
   "metadata": {},
   "outputs": [],
   "source": [
    "fixed_z_ = torch.randn((5*5, 100)).view(-1,100,1,1) # 5*5 25개 한번에 넣어버리기\n",
    "fixed_z_ = Variable(fixed_z_.cuda(), requires_grad=False)\n",
    "def show_result(num_epoch, show=False, save=False, path='result.png', isFix=False):\n",
    "    z_ = torch.randn((5*5,100)).view(-1,100,1,1)\n",
    "    z_ = Variable(z_.cuda(), requires_grad=False)\n",
    "    \n",
    "    G.eval()\n",
    "    if isFix:\n",
    "        test_images = G(fixed_z_)\n",
    "    else:\n",
    "        test_images = G(z_)\n",
    "    G.train()\n",
    "    \n",
    "    size_figure_grid = 5\n",
    "    fig, ax = plt.subplots(size_figure_grid, size_figure_grid, figsize=(5,5)) #returns instance of figure and array of axes\n",
    "    for i,j in itertools.product(range(size_figure_grid), range(size_figure_grid)):\n",
    "        ax[i,j].get_xaxis().set_visible(False)\n",
    "        ax[i,j].get_yaxis().set_visible(False)\n",
    "    for k in range(5*5):\n",
    "        i = k // 5\n",
    "        j = k % 5\n",
    "        ax[i,j].cla() #clear axis\n",
    "        ax[i,j].imshow((test_images[k].cpu().data.numpy().transpose(1, 2, 0) + 1) / 2)\n",
    "        \n",
    "    label = 'Epoch {0}'.format(num_epoch)\n",
    "    fig.text(0.5, 0.04, label, ha='center')\n",
    "    plt.savefig(path)\n",
    "    \n",
    "    if show:\n",
    "        plt.show()\n",
    "    else:\n",
    "        plt.close()"
   ]
  },
  {
   "cell_type": "markdown",
   "metadata": {},
   "source": [
    "### .eval() .train()\n",
    "#### eval and train works differently on dropout and BN\n",
    "#### 모델을 훈련할 땐 model.train() , 테스트할 땐 model.eval() 함수를 호출하면 Module 클래스의 훈련 상태 여부를 바꾸게 되며 이는 dropout"
   ]
  },
  {
   "cell_type": "code",
   "execution_count": null,
   "metadata": {},
   "outputs": [],
   "source": [
    "def show_train_hist(hist, show = False, save = False, path = 'Train_hist.png'):\n",
    "    x = range(len(hist['D_losses']))\n",
    "    \n",
    "    y1 = hist['D_losses']\n",
    "    y2 = hist['G_losses']\n",
    "    \n",
    "    plt.plot(x, y1, label='D_loss')\n",
    "    plt.plot(x, y2, label='G_loss')\n",
    "    \n",
    "    plt.xlabel('Iter')\n",
    "    plt.ylabel('Loss')\n",
    "    \n",
    "    plt.legend(loc=4)\n",
    "    plt.grid(True)\n",
    "    plt.tight_layout()\n",
    "    \n",
    "    if save:\n",
    "        plt.savefig(path)\n",
    "    if show:\n",
    "        plt.show()\n",
    "    else:\n",
    "        plt.close()"
   ]
  },
  {
   "cell_type": "code",
   "execution_count": null,
   "metadata": {},
   "outputs": [],
   "source": [
    "batch_size = 256\n",
    "lr = 0.00005\n",
    "train_epoch = 10000\n",
    "\n",
    "img_size = 64\n",
    "transform = transforms.Compose([\n",
    "    transforms.Resize(img_size),\n",
    "    transforms.ToTensor(),\n",
    "    transforms.Normalize(mean=[0.5, 0.5, 0.5], std=[0.5, 0.5, 0.5])])\n",
    "trainset = datasets.CIFAR10(root='./data', train=True,\n",
    "                                        download=True, transform=transform)\n",
    "trainloader = torch.utils.data.DataLoader(trainset, batch_size=batch_size,\n",
    "                                          shuffle=True, num_workers=2) #num of threads to use"
   ]
  },
  {
   "cell_type": "code",
   "execution_count": null,
   "metadata": {},
   "outputs": [],
   "source": [
    "G = Generator(128)\n",
    "D = Discriminator(128)\n",
    "G.weight_init(mean=0.0, std=0.02)\n",
    "D.weight_init(mean=0.0, std=0.02)\n",
    "G.cuda()\n",
    "D.cuda()\n",
    "\n",
    "BCE_loss = nn.BCELoss()\n",
    "\n",
    "G_optimizer = optim.Adam(G.parameters(), lr=lr, betas=(0.5,0.999))\n",
    "D_optimizer = optim.Adam(D.parameters(), lr=lr, betas=(0.5,0.999))"
   ]
  },
  {
   "cell_type": "code",
   "execution_count": null,
   "metadata": {},
   "outputs": [],
   "source": [
    "if not os.path.isdir('CIFAR_DCGAN_results'):\n",
    "    os.mkdir('CIFAR_DCGAN_results')\n",
    "if not os.path.isdir('CIFAR_DCGAN_results/Random_results'):\n",
    "    os.mkdir('CIFAR_DCGAN_results/Random_results')\n",
    "if not os.path.isdir('CIFAR_DCGAN_results/Fixed_results'):\n",
    "    os.mkdir('CIFAR_DCGAN_results/Fixed_results')"
   ]
  },
  {
   "cell_type": "code",
   "execution_count": null,
   "metadata": {},
   "outputs": [],
   "source": [
    "train_hist = {}\n",
    "train_hist['D_losses'] = []\n",
    "train_hist['G_losses'] = []\n",
    "train_hist['per_epoch_ptimes'] = []\n",
    "train_hist['total_ptime'] = []\n",
    "num_iter = 0"
   ]
  },
  {
   "cell_type": "markdown",
   "metadata": {},
   "source": [
    "### training start"
   ]
  },
  {
   "cell_type": "code",
   "execution_count": null,
   "metadata": {
    "scrolled": true
   },
   "outputs": [],
   "source": [
    "start_time = time.time()\n",
    "for epoch in range(train_epoch):\n",
    "    D_losses = []\n",
    "    G_losses = []\n",
    "    epoch_start_time = time.time()\n",
    "    for x_, _ in trainloader:\n",
    "        D.zero_grad()\n",
    "        \n",
    "        mini_batch = x_.size()[0]\n",
    "        \n",
    "        y_real_ = torch.ones(mini_batch)\n",
    "        y_fake_ = torch.zeros(mini_batch)\n",
    "        \n",
    "        x_, y_real_, y_fake_ = Variable(x_.cuda()), Variable(y_real_.cuda()), Variable(y_fake_.cuda())\n",
    "\n",
    "        D_result = D(x_).squeeze()\n",
    "        D_real_loss = BCE_loss(D_result, y_real_)\n",
    "        z_ = torch.randn((mini_batch, 100)).view(-1,100,1,1)\n",
    "        z_ = Variable(z_.cuda())\n",
    "        G_result = G(z_)\n",
    "        \n",
    "        D_result = D(G_result).squeeze()\n",
    "        D_fake_loss = BCE_loss(D_result, y_fake_)\n",
    "        D_fake_score = D_result.data.mean()\n",
    "        \n",
    "        D_train_loss = D_real_loss + D_fake_loss\n",
    "        \n",
    "        D_train_loss.backward()\n",
    "        D_optimizer.step()\n",
    "        D_losses.append(D_train_loss.data)\n",
    "        G.zero_grad()\n",
    "        \n",
    "        z_ = torch.randn((mini_batch,100)).view(-1,100,1,1)\n",
    "        z_ = Variable(z_.cuda())\n",
    "        \n",
    "        G_result = G(z_)\n",
    "        D_result = D(G_result).squeeze() #removes 1 in shape ex) (2,1,2,1) -> (2,2)\n",
    "        G_train_loss = BCE_loss(D_result, y_real_)\n",
    "        G_train_loss.backward()\n",
    "        G_optimizer.step()\n",
    "        \n",
    "        G_losses.append(G_train_loss.data)\n",
    "        \n",
    "        num_iter += 1\n",
    "    epoch_end_time = time.time()\n",
    "    per_epoch_ptime = epoch_end_time - epoch_start_time\n",
    "    \n",
    "    print('[%d/%d] - ptime: %.2f, loss_d: %.3f, loss_g: %.3f' % ((epoch + 1), train_epoch, per_epoch_ptime, torch.mean(torch.FloatTensor(D_losses)),\n",
    "                                                              torch.mean(torch.FloatTensor(G_losses))))\n",
    "    p = 'CIFAR_DCGAN_results/Random_results/CIFAR_DCGAN_' + str(epoch + 1) + '.png'\n",
    "    fixed_p = 'CIFAR_DCGAN_results/Fixed_results/CIFAR_DCGAN_' + str(epoch + 1) + '.png'\n",
    "    show_result((epoch+1), save=True, path=p, isFix=False)\n",
    "    show_result((epoch+1), save=True, path=fixed_p, isFix=True)\n",
    "    train_hist['D_losses'].append(torch.mean(torch.FloatTensor(D_losses)))\n",
    "    train_hist['G_losses'].append(torch.mean(torch.FloatTensor(G_losses)))\n",
    "    train_hist['per_epoch_ptimes'].append(per_epoch_ptime)"
   ]
  },
  {
   "cell_type": "code",
   "execution_count": null,
   "metadata": {},
   "outputs": [],
   "source": [
    "end_time = time.time()\n",
    "total_ptime = end_time - start_time\n",
    "train_hist['total_ptime'].append(total_ptime)\n",
    "\n",
    "print(\"Avg per epoch ptime: %.2f, total %d epochs ptime: %.2f\" % (torch.mean(torch.FloatTensor(train_hist['per_epoch_ptimes'])), train_epoch, total_ptime))\n",
    "print(\"Training finish!... save training results\")\n",
    "torch.save(G.state_dict(), \"CIFAR_DCGAN_results/generator_param.pkl\")\n",
    "torch.save(D.state_dict(), \"CIFAR_DCGAN_results/discriminator_param.pkl\")\n",
    "with open('CIFAR_DCGAN_results/train_hist.pkl', 'wb') as f:\n",
    "    pickle.dump(train_hist, f) #dump to write to the file\n",
    "\n",
    "show_train_hist(train_hist, save=True, path='CIFAR_DCGAN_results/CIFAR_DCGAN_train_hist.png')\n",
    "\n",
    "images = []\n",
    "for e in range(train_epoch):\n",
    "    img_name = 'CIFAR_DCGAN_results/Fixed_results/CIFAR_DCGAN_' + str(e + 1) + '.png'\n",
    "    images.append(imageio.imread(img_name))\n",
    "imageio.mimsave('CIFAR_DCGAN_results/generation_animation.gif', images, fps=5)"
   ]
  },
  {
   "cell_type": "code",
   "execution_count": null,
   "metadata": {},
   "outputs": [],
   "source": []
  }
 ],
 "metadata": {
  "kernelspec": {
   "display_name": "Python 3",
   "language": "python",
   "name": "python3"
  },
  "language_info": {
   "codemirror_mode": {
    "name": "ipython",
    "version": 3
   },
   "file_extension": ".py",
   "mimetype": "text/x-python",
   "name": "python",
   "nbconvert_exporter": "python",
   "pygments_lexer": "ipython3",
   "version": "3.7.4"
  }
 },
 "nbformat": 4,
 "nbformat_minor": 2
}
